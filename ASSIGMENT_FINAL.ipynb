{
  "nbformat": 4,
  "nbformat_minor": 0,
  "metadata": {
    "colab": {
      "provenance": [],
      "authorship_tag": "ABX9TyOLwQCE15GMb7wug+7s7Dzt",
      "include_colab_link": true
    },
    "kernelspec": {
      "name": "python3",
      "display_name": "Python 3"
    },
    "language_info": {
      "name": "python"
    }
  },
  "cells": [
    {
      "cell_type": "markdown",
      "metadata": {
        "id": "view-in-github",
        "colab_type": "text"
      },
      "source": [
        "<a href=\"https://colab.research.google.com/github/saranyapichandi96/TASK-1/blob/main/ASSIGMENT_FINAL.ipynb\" target=\"_parent\"><img src=\"https://colab.research.google.com/assets/colab-badge.svg\" alt=\"Open In Colab\"/></a>"
      ]
    },
    {
      "cell_type": "code",
      "execution_count": 20,
      "metadata": {
        "colab": {
          "base_uri": "https://localhost:8080/"
        },
        "id": "70-lauJmGhNH",
        "outputId": "029860e2-0589-456f-9f3b-a9bbbd464ebf"
      },
      "outputs": [
        {
          "output_type": "stream",
          "name": "stdout",
          "text": [
            "Would you like to login or create an account? (answer with create or login) login\n",
            "What is your mailid? navin@gmail.com\n",
            "What is your password?navin@12A\n",
            "MAIL_ID IS NOT REGISTERED  False\n"
          ]
        }
      ],
      "source": [
        "import re\n",
        "import json\n",
        "user_data = {}\n",
        "logged_in = False\n",
        "\n",
        "option1 = input(\n",
        "    \"Would you like to login or create an account? (answer with create or login) \")\n",
        "\n",
        "if option1 == \"create\":\n",
        "  s = input(\"please enter the mail_id\")\n",
        "  created_mailid=s\n",
        "  def solve(s):\n",
        "   pat = \"^[a-zA-Z0-9-_]+@[a-zA-Z0-9]+\\.[a-z]{1,3}$\"\n",
        "   if re.match(pat,s):\n",
        "      return \"MAIL_ID IS VALID\"\n",
        "   return \"INVALID MAIL_ID\"\n",
        "  \n",
        "  print(solve(s))\n",
        "  s =input(\"enter the password\")\n",
        "  created_password =s\n",
        "  l, u, p, d = 0, 0, 0, 0\n",
        "  \n",
        "  if (len(s) >=5 or len(s) <= 16):\n",
        "    for i in s:\n",
        "      # counting lowercase alphabets\n",
        "      if (i.islower()):\n",
        "        l+=1\t\t\n",
        "      # counting uppercase alphabets\n",
        "      if (i.isupper()):\n",
        "        u+=1\t\t\n",
        "      # counting digits\n",
        "      if (i.isdigit()):\n",
        "        d+=1\t\t\n",
        "      # counting the mentioned special characters\n",
        "      if(i=='@'or i=='$' or i=='_' or i=='!' or i=='#' or i=='%' or i=='^' or i=='&' or i=='&' or i=='*'):\n",
        "        p+=1\t\t\n",
        "  if (l>=1 and u>=1 and p>=1 and d>=1 and l+p+u+d==len(s)):\n",
        "    print(\"Valid Password\")\n",
        "  else:\n",
        "    print(\"Invalid Password\")\n",
        "   \n",
        "  # Put new user info in dictionary\n",
        "  user_data[created_mailid] = created_password\n",
        "  print(user_data)\n",
        "  # Append to file to retrieve later\n",
        "  with open('userData', 'w') as database:\n",
        "      json.dump(user_data, database)\n",
        "  \n",
        "  logged_in = True\n",
        "elif option1 == \"login\":\n",
        "  entered_mailid = input(\"What is your mailid? \")\n",
        "  entered_password = input(\"What is your password?\")\n",
        "  # Load user database in dictionary\n",
        "  with open('userData', 'r') as database:\n",
        "      user_data = json.load(database)\n",
        "  # Checking credentials\n",
        "  if entered_mailid in user_data:\n",
        "        user_password = user_data[entered_mailid]\n",
        "        logged_in = user_password == entered_password\n",
        "        print(\"ISLOGGEDIN\", logged_in)\n",
        "  else:\n",
        "        print(\"MAIL_ID IS NOT REGISTERED \", logged_in)\n",
        "else:\n",
        "    print(\"Please answer create or login next time. Have a good day.\")\n",
        "    # login system ends here\n"
      ]
    },
    {
      "cell_type": "code",
      "source": [
        "\n"
      ],
      "metadata": {
        "id": "KlFjnhRMJB-z"
      },
      "execution_count": 17,
      "outputs": []
    },
    {
      "cell_type": "code",
      "source": [],
      "metadata": {
        "id": "l6oYFy6GOyuL"
      },
      "execution_count": null,
      "outputs": []
    }
  ]
}